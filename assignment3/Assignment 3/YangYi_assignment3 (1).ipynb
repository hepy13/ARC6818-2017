{
 "cells": [
  {
   "cell_type": "code",
   "execution_count": null,
   "metadata": {},
   "outputs": [],
   "source": [
    "import time\n",
    "import datetime\n",
    "from time import sleep\n",
    "import tkinter as tk\n",
    "import random\n",
    "\n",
    "now=datetime.datetime.now().time()\n",
    "\n",
    "\n",
    "animation = tk.Tk()\n",
    "\n",
    "canvas = tk.Canvas(animation,width=50000,height=20000)\n",
    "\n",
    "#define previous time to current time as in the class example (being lazy and saving lines)\n",
    "prevm = now.minute\n",
    "prevs = now.second\n",
    "\n",
    "canvas.pack()\n",
    "\n",
    "#create rectangulars in sizes changing every second and positions changing every minute with some randomness on canvas \n",
    "for i in range(10000):\n",
    "    now=datetime.datetime.now().time()\n",
    "    curs=now.second\n",
    "    curm=now.minute\n",
    "    r = random.randint(1, 100)\n",
    " \n",
    "    if curs == prevs and curm == prevm:\n",
    "        rectangle = canvas.create_rectangle(r+curm*5,r+curm*5,curs*10,curs*10)\n",
    " \n",
    "    if curm == prevm:\n",
    "        rectangle = canvas.create_rectangle(r+curm*10,r+curm*10,curs*10,curs*10)\n",
    " \n",
    "    prevm = now.minute\n",
    "    prevs = now.second\n",
    "\n",
    "    animation.update()\n",
    "    sleep(1)\n"
   ]
  },
  {
   "attachments": {},
   "cell_type": "markdown",
   "metadata": {},
   "source": [
    "![1](https://github.com/mmeagher/ARC6818-2017/blob/master/assignment3/Assignment%203/images/YY0129102017.PNG?raw=true'1')"
   ]
  },
  {
   "attachments": {},
   "cell_type": "markdown",
   "metadata": {},
   "source": [
    "![2](https://github.com/mmeagher/ARC6818-2017/blob/master/assignment3/Assignment%203/images/YY0229102017.PNG?raw=true'2')"
   ]
  },
  {
   "cell_type": "code",
   "execution_count": null,
   "metadata": {
    "collapsed": true
   },
   "outputs": [],
   "source": []
  }
 ],
 "metadata": {
  "kernelspec": {
   "display_name": "Python 3",
   "language": "python",
   "name": "python3"
  },
  "language_info": {
   "codemirror_mode": {
    "name": "ipython",
    "version": 3
   },
   "file_extension": ".py",
   "mimetype": "text/x-python",
   "name": "python",
   "nbconvert_exporter": "python",
   "pygments_lexer": "ipython3",
   "version": "3.6.2"
  }
 },
 "nbformat": 4,
 "nbformat_minor": 2
}
