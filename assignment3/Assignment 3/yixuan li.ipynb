
{
 "cells": [
  {
   "cell_type": "markdown",
   "metadata": {},
   "source": [
    "###  At first, I'd likve to import turtle, random and time module"
   ]
  },
  {
   "cell_type": "code",
   "execution_count": 2,
   "metadata": {},
   "outputs": [
    {
     "ename": "ModuleNotFoundError",
     "evalue": "No module named 'timeurtles'",
     "output_type": "error",
     "traceback": [
      "\u001b[1;31m---------------------------------------------------------------------------\u001b[0m",
      "\u001b[1;31mModuleNotFoundError\u001b[0m                       Traceback (most recent call last)",
      "\u001b[1;32m<ipython-input-2-b7949ac66564>\u001b[0m in \u001b[0;36m<module>\u001b[1;34m()\u001b[0m\n\u001b[0;32m      1\u001b[0m \u001b[1;32mimport\u001b[0m \u001b[0mturtle\u001b[0m \u001b[1;32mas\u001b[0m \u001b[0mchris\u001b[0m\u001b[1;33m\u001b[0m\u001b[0m\n\u001b[0;32m      2\u001b[0m \u001b[1;32mimport\u001b[0m \u001b[0mrandom\u001b[0m\u001b[1;33m\u001b[0m\u001b[0m\n\u001b[1;32m----> 3\u001b[1;33m \u001b[1;32mimport\u001b[0m \u001b[0mtimeurtles\u001b[0m\u001b[1;33m\u001b[0m\u001b[0m\n\u001b[0m",
      "\u001b[1;31mModuleNotFoundError\u001b[0m: No module named 'timeurtles'"
     ]
    }
   ],
   "source": [
    "import turtle as chris\n",
    "import random\n",
    "import timeurtles"
   ]
  },
  {
   "cell_type": "markdown",
   "metadata": {},
   "source": [
    "###  Then, I'd like to define the first movement to get six random turtles"
   ]
  },
  {
   "cell_type": "code",
   "execution_count": 3,
   "metadata": {},
   "outputs": [],
   "source": [
    "def move1(chris):\n",
    "    chris.penup()\n",
    "    chris.setheading(random.choice(angles))\n",
    "    chris.fd(random.randint(100,200))\n",
    "    chris.pendown()\n"
   ]
  },
  {
   "cell_type": "markdown",
   "metadata": {},
   "source": [
    "### Next, I define the second movement to draw six hearts in red every ten seconds."
   ]
  },
  {
   "cell_type": "code",
   "execution_count": 4,
   "metadata": {
    "collapsed": true
   },
   "outputs": [],
   "source": [
    "angles = [60,120,180,240,300]"
   ]
  },
  {
   "cell_type": "code",
   "execution_count": 5,
   "metadata": {
    "collapsed": true
   },
   "outputs": [],
   "source": [
    "def move2(chris):\n",
    "    chris.color(\"red\")\n",
    "    chris.lt(90)\n",
    "    chris.circle(10,180)\n",
    "    chris.lt(45)\n",
    "    chris.fd(30)\n",
    "    chris.lt(90)\n",
    "    chris.fd(30)\n",
    "    chris.lt(45)\n",
    "    chris.circle(10,180)"
   ]
  },
  {
   "cell_type": "code",
   "execution_count": 6,
   "metadata": {},
   "outputs": [],
   "source": [
    "turtles = []\n",
    "\n",
    "for i in range(6):\n",
    "    turtles.append(chris.Turtle())\n",
    "\n",
    "for chris in turtles:\n",
    "    move1(chris)\n",
    "    \n",
    "for chris in turtles:\n",
    "    move2(chris)\n",
    "    time.sleep(10)"
   ]
  },
  {
   "cell_type": "markdown",
   "metadata": {},
   "source": [
    "### After six hearts are finished, one minute is passing by, so there will be a sentence to remind of passing time."
   ]
  },
  {
   "cell_type": "code",
   "execution_count": 6,
   "metadata": {
    "collapsed": true
   },
   "outputs": [],
   "source": [
    "chris.color(\"black\")\n",
    "chris.write(\"one minute is passing by\")"
   ]
  },
  {
   "cell_type": "markdown",
   "metadata": {},
   "source": [
    "![image](https://github.com/mmeagher/ARC6818-2017/blob/master/assignment3/Assignment%203/images/1.PNG?raw=true)"
   ]
  },
  {
   "cell_type": "markdown",
   "metadata": {},
   "source": [
    "![image](https://github.com/mmeagher/ARC6818-2017/blob/master/assignment3/Assignment%203/images/2.PNG?raw=true)"
   ]
  }
 ],
 "metadata": {
  "kernelspec": {
   "display_name": "Python 3",
   "language": "python",
   "name": "python3"
  },
  "language_info": {
   "codemirror_mode": {
    "name": "ipython",
    "version": 3
   },
   "file_extension": ".py",
   "mimetype": "text/x-python",
   "name": "python",
   "nbconvert_exporter": "python",
   "pygments_lexer": "ipython3",
   "version": "3.6.2"
  }
 },
 "nbformat": 4,
 "nbformat_minor": 2
}
