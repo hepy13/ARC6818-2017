{
 "cells": [
  {
   "cell_type": "code",
   "execution_count": 1,
   "metadata": {
    "collapsed": true
   },
   "outputs": [],
   "source": [
    "import turtle\n",
    "import time\n",
    "import datetime"
   ]
  },
  {
   "cell_type": "code",
   "execution_count": 2,
   "metadata": {
    "collapsed": true
   },
   "outputs": [],
   "source": [
    "turtle.home()"
   ]
  },
  {
   "cell_type": "code",
   "execution_count": 3,
   "metadata": {
    "collapsed": true
   },
   "outputs": [],
   "source": [
    "#drawing clock\n",
    "def clock(radius, hours, minutes, length, color):\n",
    "    t=turtle.Turtle()\n",
    "    t.speed('fastest')\n",
    "    t.pensize(3)\n",
    "    t.penup()\n",
    "    t.goto(0,radius)\n",
    "    t.pendown()\n",
    "    t.fillcolor(color)\n",
    "    t.pencolor('darkblue')\n",
    "    t.begin_fill()\n",
    "    for degree in range(0,360,360//minutes):\n",
    "        t.circle(-radius,360//minutes)\n",
    "        t.right(90)\n",
    "        t.forward(length/3)\n",
    "        t.back(length/3)\n",
    "        t.left(90)\n",
    "        t.end_fill()\n",
    "        t.pencolor('black')\n",
    "    for degree in range(0,360,360//hours):\n",
    "        t.circle(-radius,360//hours)\n",
    "        t.right(90)\n",
    "        t.forward(length)\n",
    "        t.back(length)\n",
    "        t.left(90)\n",
    "        t.end_fill()\n",
    "        t.circle(-radius)\n",
    "    \n",
    "    \n",
    "def hand(angle,radius, width, color, outline=False):\n",
    "    if outline:\n",
    "        t.pencolor('black')\n",
    "    else:\n",
    "        t.speed('fastest')\n",
    "        t.pencolor(color)\n",
    "        t.pensize(2)\n",
    "        t.penup()\n",
    "        t.home()\n",
    "        t.fillcolor(color)\n",
    "        t.begin_fill()\n",
    "        t.left(90)\n",
    "        t.right(angle)\n",
    "        t.forward(radius)\n",
    "        t.pendown()\n",
    "        t.left(150)\n",
    "        t.forward(width)\n",
    "        t.home()\n",
    "        t.left(90)\n",
    "        t.right(angle)\n",
    "        t.penup()\n",
    "        t.forward(radius)\n",
    "        t.pendown()\n",
    "        t.right(150)\n",
    "        t.forward(width)\n",
    "        t.home()\n",
    "        t.end_fill()\n",
    "\n"
   ]
  },
  {
   "cell_type": "code",
   "execution_count": null,
   "metadata": {
    "collapsed": true
   },
   "outputs": [],
   "source": [
    "#setting up time\n",
    "radius=300\n",
    "t=turtle.Turtle()\n",
    "turtle.speed('fastest')\n",
    "turtle.hideturtle()\n",
    "turtle.title('Basic Clock')\n",
    "clock(radius,12,60,radius*.1,\"white\")\n",
    "current_time=datetime.datetime.now().time()\n",
    "turtle.title(current_time.strftime('%H:%M Basic Clock'))\n",
    "hand(current_time.minute * 6, radius*.9,radius//10, 'blue')\n",
    "hand(((current_time.hour+current_time.minute/60)%12)*30,radius*.6,radius//10, 'black')\n",
    "\n",
    "while True:\n",
    "    new_time=datetime.datetime.now().time()\n",
    "    if current_time.minute is not new_time.minute:\n",
    "        turtle.title(new_time.strftime('%H:%M Basic Clock'))\n",
    "        hand(current_time.minute*6, radius*.9,radius//10, 'white')\n",
    "        hand(((current_time.hour+current_time.minute/60)%12)*30,radius*.6,radius//10, 'white')\n",
    "        hand(new_time.minute*6, radius*.9,radius//10, 'blue')\n",
    "        hand(((new_time.hour+new_time.minute/60)%12)*30,radius*.6,radius//10,'black')\n",
    "    current_time=new_time\n",
    "    time.sleep(60) #changes every 1 minute\n"
   ]
  },
  {
   "cell_type": "code",
   "execution_count": null,
   "metadata": {
    "collapsed": true
   },
   "outputs": [],
   "source": []
  }
 ],
 "metadata": {
  "kernelspec": {
   "display_name": "Python 3",
   "language": "python",
   "name": "python3"
  },
  "language_info": {
   "codemirror_mode": {
    "name": "ipython",
    "version": 3
   },
   "file_extension": ".py",
   "mimetype": "text/x-python",
   "name": "python",
   "nbconvert_exporter": "python",
   "pygments_lexer": "ipython3",
   "version": "3.6.2"
  }
 },
 "nbformat": 4,
 "nbformat_minor": 2
}
