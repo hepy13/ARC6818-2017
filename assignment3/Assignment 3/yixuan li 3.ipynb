{
 "cells": [
  {
   "cell_type": "code",
   "execution_count": 1,
   "metadata": {
    "collapsed": true
   },
   "outputs": [],
   "source": [
    "import turtle as chris\n",
    "import random\n",
    "import time"
   ]
  },
  {
   "cell_type": "code",
   "execution_count": 2,
   "metadata": {},
   "outputs": [],
   "source": [
    "def move1(chris):\n",
    "    chris.color(\"red\")\n",
    "    chris.lt(90)\n",
    "    chris.circle(10,180)\n",
    "    chris.lt(45)\n",
    "    chris.fd(30)\n",
    "    chris.lt(90)\n",
    "    chris.fd(30)\n",
    "    chris.lt(45)\n",
    "    chris.circle(10,180)"
   ]
  },
  {
   "cell_type": "code",
   "execution_count": 3,
   "metadata": {
    "collapsed": true
   },
   "outputs": [],
   "source": [
    "angles = [60,120,180,240,300]"
   ]
  },
  {
   "cell_type": "code",
   "execution_count": 4,
   "metadata": {
    "collapsed": true
   },
   "outputs": [],
   "source": [
    "def move2(chris):\n",
    "    chris.penup()\n",
    "    chris.setheading(random.choice(angles))\n",
    "    chris.fd(random.randint(100,200))\n",
    "    chris.pendown()"
   ]
  },
  {
   "cell_type": "code",
   "execution_count": 5,
   "metadata": {},
   "outputs": [],
   "source": [
    "turtles = []\n",
    "\n",
    "for i in range(6):\n",
    "    turtles.append(chris.Turtle())\n",
    "\n",
    "for chris in turtles:\n",
    "    move2(chris)\n",
    "    \n",
    "for chris in turtles:\n",
    "    move1(chris)\n",
    "    time.sleep(10)"
   ]
  },
  {
   "cell_type": "code",
   "execution_count": 6,
   "metadata": {
    "collapsed": true
   },
   "outputs": [],
   "source": [
    "chris.color(\"black\")\n",
    "chris.write(\"one minute is passing by\")"
   ]
  },
  {
   "cell_type": "code",
   "execution_count": null,
   "metadata": {
    "collapsed": true
   },
   "outputs": [],
   "source": []
  },
  {
   "cell_type": "code",
   "execution_count": 7,
   "metadata": {
    "collapsed": true
   },
   "outputs": [],
   "source": []
  },
  {
   "cell_type": "code",
   "execution_count": null,
   "metadata": {},
   "outputs": [],
   "source": []
  },
  {
   "cell_type": "code",
   "execution_count": null,
   "metadata": {
    "collapsed": true
   },
   "outputs": [],
   "source": []
  }
 ],
 "metadata": {
  "kernelspec": {
   "display_name": "Python 3",
   "language": "python",
   "name": "python3"
  },
  "language_info": {
   "codemirror_mode": {
    "name": "ipython",
    "version": 3
   },
   "file_extension": ".py",
   "mimetype": "text/x-python",
   "name": "python",
   "nbconvert_exporter": "python",
   "pygments_lexer": "ipython3",
   "version": "3.6.2"
  }
 },
 "nbformat": 4,
 "nbformat_minor": 2
}
