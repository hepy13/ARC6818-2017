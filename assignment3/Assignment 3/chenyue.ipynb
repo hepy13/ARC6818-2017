{
 "cells": [
  {
   "cell_type": "markdown",
   "metadata": {},
   "source": [
   ]
  },
  {
   "cell_type": "markdown",
   "metadata": {},
   "source": [
    "this graph shows the normal life for two people"
   ]
  },
  {
   "cell_type": "code",
   "execution_count": 1,
   "metadata": {
    "collapsed": true
   },
   "outputs": [],
   "source": [
    "import turtle\n",
    "import time\n",
    "import threading\n",
    "from threading import Timer\n",
    "import math"
   ]
  },
  {
   "cell_type": "code",
   "execution_count": 2,
   "metadata": {
    "collapsed": true
   },
   "outputs": [],
   "source": [
    "#every passed second symbolize passed 1 year\n",
    "\n",
    "male = turtle.Turtle()\n",
    "female = turtle.Turtle()\n",
    "#these two turtles stand for a man and a woman\n",
    "\n",
    "\n",
    "turtle.screensize(800,800)\n",
    "\n",
    "male.color('blue')\n",
    "female.color('red')\n",
    "#the color used to decribe gender regularly\n",
    "\n",
    "male.shape('turtle')\n",
    "female.shape('turtle')\n",
    "\n",
    "\n",
    "female.penup()\n",
    "female.goto(200,0)\n",
    "female.setheading(180)\n",
    "#they were born in diffrent places\n",
    "\n",
    "male.shapesize(1,1,1)\n",
    "female.shapesize(1,1,1)\n",
    "#they were children\n",
    "\n",
    "\n",
    "def growup():\n",
    "    #they grew up till 20 years old\n",
    "    for i in range(0,20):\n",
    "            \n",
    "        male.shapesize(1+i*0.1,1+i*0.1,1+i*0.1)\n",
    "        female.shapesize(1+i*0.1,1+i*0.1,1+i*0.1)\n",
    "        time.sleep(1)\n",
    "        \n",
    "        \n",
    "def meet():\n",
    "    #to describe the first time they met each other\n",
    "    male.penup()\n",
    "    female.penup()\n",
    "    male.fd(100)\n",
    "    female.fd(100)\n",
    "    male.speed(0.5)\n",
    "    female.speed(0.5)\n",
    "\n",
    "    \n",
    "\n",
    "def curvemove1():\n",
    "    #this is used for drawing the curve\n",
    "    for i in range(200):\n",
    "        male.right(1)\n",
    "        female.left(1)\n",
    "        male.fd(1)\n",
    "        female.fd(1)\n",
    "        male.speed(0.5)\n",
    "        female.speed(0.5)\n",
    "    \n",
    "        \n",
    "\n",
    "def FallingInLove():\n",
    "    #to describe their love story\n",
    "    male.down()\n",
    "    female.down()\n",
    "    male.left(140)\n",
    "    female.right(140)\n",
    "    male.fd(111.65)\n",
    "    female.fd(111.65)\n",
    "    curvemove1()    \n",
    "\n",
    "\n",
    "def havechild():\n",
    "    #they had a child\n",
    "    child = turtle.Turtle()\n",
    "    child.shape('turtle')\n",
    "    child.color('yellow')\n",
    "    child.penup()\n",
    "    child.goto(100,80)\n",
    "\n",
    "    \n",
    "        \n",
    "timer = threading.Timer(1, growup())\n",
    "time.sleep(3)\n",
    "#after growing up, they met each other 3 years later\n",
    "timer = threading.Timer(0, meet())\n",
    "time.sleep(1)\n",
    "#they started dating soon\n",
    "timer = threading.Timer(5, FallingInLove())\n",
    "time.sleep(5)\n",
    "#they had a child after married 5 years\n",
    "timer = threading.Timer(5, havechild())\n",
    "     \n",
    "\n",
    "        \n"
   ]
  },
  {
   "cell_type": "markdown",
   "metadata": {},
   "source": [
    "![image](https://github.com/mmeagher/ARC6818-2017/blob/master/assignment3/Assignment%203/images/liu1.png?raw=true)"
   ]
  },
  {
   "cell_type": "markdown",
   "metadata": {},
   "source": [
    "they were born in different place but not that far"
   ]
  },
  {
   "cell_type": "markdown",
   "metadata": {},
   "source": [
    "![image](https://github.com/mmeagher/ARC6818-2017/blob/master/assignment3/Assignment%203/images/liu2.png?raw=true)"
   ]
  },
  {
   "cell_type": "markdown",
   "metadata": {},
   "source": [
    "after 20 years,the were not kids anymore"
   ]
  },
  {
   "cell_type": "markdown",
   "metadata": {},
   "source": [
    "![image](https://github.com/mmeagher/ARC6818-2017/blob/master/assignment3/Assignment%203/images/liu3.png?raw=true)"
   ]
  },
  {
   "cell_type": "markdown",
   "metadata": {},
   "source": [
    "they would get married when the heart was done"
   ]
  },
  {
   "cell_type": "markdown",
   "metadata": {},
   "source": [
    "![image](https://github.com/mmeagher/ARC6818-2017/blob/master/assignment3/Assignment%203/images/liu4.png?raw=true)"
   ]
  },
  {
   "cell_type": "markdown",
   "metadata": {},
   "source": [
    "finally,they had a great family"
   ]
  },
  {
   "cell_type": "code",
   "execution_count": null,
   "metadata": {
    "collapsed": true
   },
   "outputs": [],
   "source": []
  }
 ],
 "metadata": {
  "kernelspec": {
   "display_name": "Python 3",
   "language": "python",
   "name": "python3"
  },
  "language_info": {
   "codemirror_mode": {
    "name": "ipython",
    "version": 3
   },
   "file_extension": ".py",
   "mimetype": "text/x-python",
   "name": "python",
   "nbconvert_exporter": "python",
   "pygments_lexer": "ipython3",
   "version": "3.6.2"
  }
 },
 "nbformat": 4,
 "nbformat_minor": 2
}
